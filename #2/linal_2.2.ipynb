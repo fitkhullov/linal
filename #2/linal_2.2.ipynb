{
 "cells": [
  {
   "cell_type": "code",
   "execution_count": 1,
   "metadata": {},
   "outputs": [],
   "source": [
    "import numpy as np"
   ]
  },
  {
   "cell_type": "markdown",
   "metadata": {},
   "source": [
    "### <b> Task №1"
   ]
  },
  {
   "cell_type": "markdown",
   "metadata": {},
   "source": [
    "* а) $$ sin^2(x) + cos^2(x) = 1 $$"
   ]
  },
  {
   "cell_type": "markdown",
   "metadata": {},
   "source": [
    "* б)  $$ 0(...) - 0(...) + 9(20-0) = 180 $$"
   ]
  },
  {
   "cell_type": "code",
   "execution_count": 5,
   "metadata": {},
   "outputs": [],
   "source": [
    "a = np.array([[4,2,3],\n",
    "              [0,5,1],\n",
    "              [0,0,9]])\n",
    "assert np.linalg.det(a) == 180, 'Wrong answer'"
   ]
  },
  {
   "cell_type": "markdown",
   "metadata": {},
   "source": [
    "* в)"
   ]
  },
  {
   "cell_type": "code",
   "execution_count": 9,
   "metadata": {},
   "outputs": [
    {
     "name": "stdout",
     "output_type": "stream",
     "text": [
      "Определитель равен -9.51619735392994e-16\n",
      "Ранг матрицы равен 2, поэтому определитель равен нулю\n"
     ]
    }
   ],
   "source": [
    "a = np.array([[1,2,3],\n",
    "              [4,5,6],\n",
    "              [7,8,9]])\n",
    "print(f'Определитель равен {np.linalg.det(a)}')\n",
    "print(f'Ранг матрицы равен {np.linalg.matrix_rank(a)}, поэтому определитель равен нулю')"
   ]
  },
  {
   "cell_type": "markdown",
   "metadata": {},
   "source": [
    "### <b> Task №2"
   ]
  },
  {
   "cell_type": "markdown",
   "metadata": {},
   "source": [
    "* а) $$det(A^2) = det(AA) = det(A)det(A) = 16$$"
   ]
  },
  {
   "cell_type": "markdown",
   "metadata": {},
   "source": [
    "* б) $$ det(A^T) = det(A) = 4 $$"
   ]
  },
  {
   "cell_type": "markdown",
   "metadata": {},
   "source": [
    "* в) $$ det(2A) = 2^n *det(A) $$\n",
    "     $$n = rank(A) $$"
   ]
  },
  {
   "cell_type": "markdown",
   "metadata": {},
   "source": [
    "### <b> Task №3"
   ]
  },
  {
   "cell_type": "code",
   "execution_count": 11,
   "metadata": {},
   "outputs": [],
   "source": [
    "a = np.array([[-2, 7, -3],\n",
    "              [4, -14, 6],\n",
    "              [-3, 7, 13]])"
   ]
  },
  {
   "cell_type": "code",
   "execution_count": 13,
   "metadata": {},
   "outputs": [],
   "source": [
    "assert np.linalg.det(a) == 0, 'Matrix is not singular'"
   ]
  },
  {
   "cell_type": "markdown",
   "metadata": {},
   "source": [
    "### <b> Task №4"
   ]
  },
  {
   "cell_type": "code",
   "execution_count": 18,
   "metadata": {},
   "outputs": [
    {
     "name": "stdout",
     "output_type": "stream",
     "text": [
      "Ранг A: 2\n",
      "Ранг B: 3\n"
     ]
    }
   ],
   "source": [
    "a = np.array([[1,2,3],\n",
    "              [1,1,1],\n",
    "              [2,3,4]])\n",
    "\n",
    "b = np.array([[0,0,2,1],\n",
    "              [0,0,2,2],\n",
    "              [0,0,4,3],\n",
    "              [2,3,5,6]])\n",
    "\n",
    "rank_a, rank_b = np.linalg.matrix_rank(a), np.linalg.matrix_rank(b)\n",
    "print(f'Ранг A: {rank_a}\\nРанг B: {rank_b}')"
   ]
  },
  {
   "cell_type": "code",
   "execution_count": 17,
   "metadata": {},
   "outputs": [],
   "source": []
  },
  {
   "cell_type": "code",
   "execution_count": null,
   "metadata": {},
   "outputs": [],
   "source": []
  }
 ],
 "metadata": {
  "kernelspec": {
   "display_name": "Python 3",
   "language": "python",
   "name": "python3"
  },
  "language_info": {
   "codemirror_mode": {
    "name": "ipython",
    "version": 3
   },
   "file_extension": ".py",
   "mimetype": "text/x-python",
   "name": "python",
   "nbconvert_exporter": "python",
   "pygments_lexer": "ipython3",
   "version": "3.8.5"
  }
 },
 "nbformat": 4,
 "nbformat_minor": 4
}
