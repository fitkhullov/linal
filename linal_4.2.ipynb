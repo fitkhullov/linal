{
 "cells": [
  {
   "cell_type": "code",
   "execution_count": 69,
   "metadata": {},
   "outputs": [],
   "source": [
    "import numpy as np\n",
    "from pprint import pprint"
   ]
  },
  {
   "cell_type": "markdown",
   "metadata": {},
   "source": [
    "### <b> Task №1"
   ]
  },
  {
   "cell_type": "code",
   "execution_count": 53,
   "metadata": {},
   "outputs": [],
   "source": [
    "def kramer(a, b):    \n",
    "    assert a.shape[0] == a.shape[1], 'Non square matrix'\n",
    "    \n",
    "    det_a = round(np.linalg.det(a), 4)\n",
    "    assert det_a != 0, 'Singular matrix'\n",
    "    \n",
    "    \n",
    "    det_array = np.array([0 for _ in range(len(a))])\n",
    "    res_array = np.array([0 for _ in range(len(a))])\n",
    "    \n",
    "    for i in range(len(a)):\n",
    "        tmp_matrix = a.copy()\n",
    "        tmp_matrix[:, i] = b\n",
    "        det_array[i] = round(np.linalg.det(tmp_matrix), 4)\n",
    "        res_array[i] = det_array[i]/det_a\n",
    "    \n",
    "    return res_array"
   ]
  },
  {
   "cell_type": "markdown",
   "metadata": {},
   "source": [
    "__а)__ $\\begin{cases}\n",
    "x_{1}-2x_{2}=1 \\\\\n",
    "3x_{1}-4x_{2}=7\n",
    "\\end{cases}$"
   ]
  },
  {
   "cell_type": "code",
   "execution_count": 61,
   "metadata": {},
   "outputs": [
    {
     "name": "stdout",
     "output_type": "stream",
     "text": [
      "[1 7]\n"
     ]
    }
   ],
   "source": [
    "a = np.array([[1, -2],\n",
    "              [3, -4]])\n",
    "b = np.array([1, 7])\n",
    "\n",
    "print(a@kramer(a, b))"
   ]
  },
  {
   "cell_type": "markdown",
   "metadata": {},
   "source": [
    "__б)__ $\\begin{cases}\n",
    "2x_{1}-x_{2}+5x_{3}=10 \\\\\n",
    "x_{1}+x_{2}-3x_{3}=-2 \\\\\n",
    "2x_{1}+4x_{2}+x_{3}=1\n",
    "\\end{cases}$"
   ]
  },
  {
   "cell_type": "code",
   "execution_count": 62,
   "metadata": {},
   "outputs": [
    {
     "name": "stdout",
     "output_type": "stream",
     "text": [
      "[10 -2  1]\n"
     ]
    }
   ],
   "source": [
    "a = np.array([[2, -1, 5],\n",
    "              [1, 1, -3],\n",
    "              [2, 4, 1]])\n",
    "\n",
    "b = np.array([10, -2, 1])\n",
    "\n",
    "print(a@kramer(a,b))"
   ]
  },
  {
   "cell_type": "markdown",
   "metadata": {},
   "source": [
    "### <b> Task №2"
   ]
  },
  {
   "cell_type": "code",
   "execution_count": 89,
   "metadata": {},
   "outputs": [],
   "source": [
    "def plu(a):    \n",
    "    n = a.shape[0]  \n",
    "    \n",
    "    P = np.eye(n).astype('float32') #permutation matrix\n",
    "    L = np.eye(n).astype('float32')\n",
    "    U = a.copy().astype('float32')\n",
    "    \n",
    "    for i in range(n):\n",
    "        \n",
    "        #swaping rows if needed   \n",
    "        for k in range(i, n): \n",
    "            if not np.isclose(U[i, i], 0.0):\n",
    "                break\n",
    "            U[[k, k+1]] = U[[k+1, k]]\n",
    "            P[[k, k+1]] = P[[k+1, k]]\n",
    "            \n",
    "        #elimination\n",
    "        eliminator = U[i+1:, i] / U[i, i]\n",
    "        L[i+1:, i] = eliminator\n",
    "        U[i+1:] -= eliminator[:, np.newaxis] * U[i]\n",
    "        \n",
    "    return P, L, U"
   ]
  },
  {
   "cell_type": "markdown",
   "metadata": {},
   "source": [
    "__а)__$$\\begin{pmatrix}\n",
    "1 & 2 & 4 \\\\ \n",
    "2 & 9 & 12 \\\\ \n",
    "3 & 26 & 30\n",
    "\\end{pmatrix}$$"
   ]
  },
  {
   "cell_type": "code",
   "execution_count": 88,
   "metadata": {},
   "outputs": [
    {
     "name": "stdout",
     "output_type": "stream",
     "text": [
      "array([[1., 0., 0.],\n",
      "       [2., 1., 0.],\n",
      "       [3., 4., 1.]], dtype=float32)\n"
     ]
    }
   ],
   "source": [
    "a = np.array([[1, 2, 4], \n",
    "              [2, 9, 12],\n",
    "              [3, 26, 30]])\n",
    "\n",
    "P, L, U = plu(a)\n",
    "pprint(L)\n"
   ]
  },
  {
   "cell_type": "code",
   "execution_count": 90,
   "metadata": {},
   "outputs": [
    {
     "name": "stdout",
     "output_type": "stream",
     "text": [
      "array([[ 1.,  2.,  4.],\n",
      "       [ 2.,  9., 12.],\n",
      "       [ 3., 26., 30.]], dtype=float32)\n"
     ]
    }
   ],
   "source": [
    "pprint(L@U)"
   ]
  },
  {
   "cell_type": "markdown",
   "metadata": {},
   "source": [
    "   __б)__$$\\begin{pmatrix}\n",
    "1 & 1 & 2 & 4\\\\ \n",
    "2 & 5 & 8 & 9\\\\ \n",
    "3 & 18 & 29 & 18\\\\\n",
    "4 & 22 & 53 & 33\n",
    "\\end{pmatrix}$$"
   ]
  },
  {
   "cell_type": "code",
   "execution_count": 91,
   "metadata": {},
   "outputs": [
    {
     "name": "stdout",
     "output_type": "stream",
     "text": [
      "array([[1., 0., 0., 0.],\n",
      "       [2., 1., 0., 0.],\n",
      "       [3., 5., 1., 0.],\n",
      "       [4., 6., 7., 1.]], dtype=float32)\n"
     ]
    }
   ],
   "source": [
    "a = np.array([[1, 1, 2, 4],\n",
    "              [2, 5, 8, 9],\n",
    "              [3, 18, 29,18],\n",
    "              [4, 22, 53, 33]            \n",
    "             ])\n",
    "\n",
    "P, L, U = plu(a)\n",
    "pprint(L)"
   ]
  },
  {
   "cell_type": "code",
   "execution_count": 92,
   "metadata": {},
   "outputs": [
    {
     "name": "stdout",
     "output_type": "stream",
     "text": [
      "array([[ 1.,  1.,  2.,  4.],\n",
      "       [ 2.,  5.,  8.,  9.],\n",
      "       [ 3., 18., 29., 18.],\n",
      "       [ 4., 22., 53., 33.]], dtype=float32)\n"
     ]
    }
   ],
   "source": [
    "pprint(L@U)"
   ]
  },
  {
   "cell_type": "markdown",
   "metadata": {},
   "source": [
    "### <b> Task №3"
   ]
  },
  {
   "cell_type": "code",
   "execution_count": 93,
   "metadata": {},
   "outputs": [],
   "source": [
    "def straight_lu(L, b):    \n",
    "    n = L.shape[0]\n",
    "    \n",
    "    y = np.zeros_like(b)\n",
    "    y[0] = b[0] / L[0, 0]\n",
    "\n",
    "    for i in range(1, n):\n",
    "        y[i] = (b[i] - np.dot(L[i,:i], y[:i])) / L[i,i]\n",
    "        \n",
    "    return y"
   ]
  },
  {
   "cell_type": "code",
   "execution_count": 94,
   "metadata": {},
   "outputs": [],
   "source": [
    "def reverse_lu(U, y):\n",
    "    n = U.shape[0]\n",
    "    \n",
    "    x = np.zeros_like(y)\n",
    "    x[-1] = y[-1] / U[-1, -1]\n",
    "    \n",
    "    for i in range(n-2, -1, -1):\n",
    "        x[i] = (y[i] - np.dot(U[i,i:], x[i:])) / U[i,i]\n",
    "        \n",
    "    return x\n"
   ]
  },
  {
   "cell_type": "code",
   "execution_count": 103,
   "metadata": {},
   "outputs": [],
   "source": [
    "def plu_solver(a, b):\n",
    "    \n",
    "    P, L, U = plu(a)\n",
    "    \n",
    "    y = straight_lu(L, P@b)\n",
    "    \n",
    "    return np.round(reverse_lu(U, y), 4)"
   ]
  },
  {
   "cell_type": "markdown",
   "metadata": {},
   "source": [
    "$$\\begin{cases}\n",
    "2x_{1}+x_{2}+3x_{3}=1 \\\\\n",
    "11x_{1}+7x_{2}+5x_{3}=-6 \\\\\n",
    "9x_{1}+8x_{2}+4x_{3}=-5\n",
    "\\end{cases}$$"
   ]
  },
  {
   "cell_type": "code",
   "execution_count": 107,
   "metadata": {},
   "outputs": [
    {
     "name": "stdout",
     "output_type": "stream",
     "text": [
      "Решение методом LU-разложения: [-1.  0.  1.]\n",
      "Решение методом Крамера: [-1  0  1]\n"
     ]
    }
   ],
   "source": [
    "a = np.array([[2, 1, 3],\n",
    "              [11, 7, 5],\n",
    "              [9, 8, 4]            \n",
    "             ])\n",
    "\n",
    "b = np.array([1, -6, -5])\n",
    "\n",
    "print(f'Решение методом LU-разложения: {plu_solver(a, b)}')\n",
    "print(f'Решение методом Крамера: {kramer(a, b)}')"
   ]
  },
  {
   "cell_type": "markdown",
   "metadata": {},
   "source": [
    "### <b> Task №4"
   ]
  },
  {
   "cell_type": "code",
   "execution_count": 130,
   "metadata": {},
   "outputs": [],
   "source": [
    "def cholesky_solver(a, b):\n",
    "    \n",
    "    L = np.linalg.cholesky(a)\n",
    "    \n",
    "    y = straight_lu(L, b)\n",
    "    \n",
    "    return np.round(reverse_lu(L.T, y), 4)\n",
    "    \n",
    "    "
   ]
  },
  {
   "cell_type": "markdown",
   "metadata": {},
   "source": [
    "$$\\begin{cases}\n",
    "81x_{1}-45x_{2}+45x_{3}=531 \\\\\n",
    "-45x_{1}+50x_{2}-15x_{3}=-460 \\\\\n",
    "45x_{1}-15x_{2}+38x_{3}=193\n",
    "\\end{cases}$$"
   ]
  },
  {
   "cell_type": "code",
   "execution_count": 128,
   "metadata": {},
   "outputs": [],
   "source": [
    "a = np.array([[81, -45, 45],\n",
    "              [-45, 50, -15],\n",
    "              [45, -15, 38]             \n",
    "             ])\n",
    "\n",
    "b = np.array([531, -460, 193])"
   ]
  },
  {
   "cell_type": "code",
   "execution_count": 132,
   "metadata": {},
   "outputs": [
    {
     "name": "stdout",
     "output_type": "stream",
     "text": [
      "Решение методом Холецкого: [ 6 -5 -4]\n",
      "Решение методом LU-разложения: [ 6. -5. -4.]\n",
      "Решение методом Крамера: [ 6 -5 -4]\n"
     ]
    }
   ],
   "source": [
    "print(f'Решение методом Холецкого: {cholesky_solver(a, b)}')\n",
    "print(f'Решение методом LU-разложения: {plu_solver(a, b)}')\n",
    "print(f'Решение методом Крамера: {kramer(a, b)}')"
   ]
  },
  {
   "cell_type": "code",
   "execution_count": null,
   "metadata": {},
   "outputs": [],
   "source": []
  }
 ],
 "metadata": {
  "kernelspec": {
   "display_name": "Python 3",
   "language": "python",
   "name": "python3"
  },
  "language_info": {
   "codemirror_mode": {
    "name": "ipython",
    "version": 3
   },
   "file_extension": ".py",
   "mimetype": "text/x-python",
   "name": "python",
   "nbconvert_exporter": "python",
   "pygments_lexer": "ipython3",
   "version": "3.8.5"
  }
 },
 "nbformat": 4,
 "nbformat_minor": 4
}
