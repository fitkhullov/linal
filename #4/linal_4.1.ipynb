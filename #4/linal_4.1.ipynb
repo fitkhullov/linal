{
 "cells": [
  {
   "cell_type": "code",
   "execution_count": 1,
   "metadata": {},
   "outputs": [],
   "source": [
    "import numpy as np"
   ]
  },
  {
   "cell_type": "markdown",
   "metadata": {},
   "source": [
    "### <b> Task №1"
   ]
  },
  {
   "cell_type": "markdown",
   "metadata": {},
   "source": [
    "$$\\begin{cases}\n",
    "x_{1}+x_{2}-x_{3}-2x_{4}=0, \\\\\n",
    "2x_{1}+x_{2}-x_{3}+x_{4}=-2, \\\\\n",
    "x_{1}+x_{2}-3x_{3}+x_{4}=4.\n",
    "\\end{cases}$$"
   ]
  },
  {
   "cell_type": "code",
   "execution_count": 57,
   "metadata": {},
   "outputs": [
    {
     "name": "stdout",
     "output_type": "stream",
     "text": [
      "Ранг матрицы A: 3\n",
      "Ранг расширенной матрицы: 3\n"
     ]
    }
   ],
   "source": [
    "a = np.array([[1, 1, -1, -2],\n",
    "              [2, 1, -1, 1],\n",
    "              [1, 1, -3, 1]])\n",
    "\n",
    "b = np.array([0, -2, 4]).reshape(3, 1)\n",
    "\n",
    "a_b = np.hstack((a, b))\n",
    "\n",
    "print(f'Ранг матрицы A: {np.linalg.matrix_rank(a)}')\n",
    "print(f'Ранг расширенной матрицы: {np.linalg.matrix_rank(a_b)}')"
   ]
  },
  {
   "cell_type": "markdown",
   "metadata": {},
   "source": [
    "$$\\tilde{A}=\\begin{pmatrix}\n",
    "\\left.\\begin{matrix}\n",
    "1 & 1 & -1 & -2\\\\ \n",
    "2 & 1 & -1 & 1\\\\ \n",
    "1 & 1 & -3 & 1\\\\ \n",
    "\\end{matrix}\\right|\n",
    "\\begin{matrix}\n",
    "0\\\\ \n",
    "-2\\\\\n",
    "4\n",
    "\\end{matrix}\n",
    "\\end{pmatrix}$$\n",
    "~ $$\\tilde{A}=\\begin{pmatrix}\n",
    "\\left.\\begin{matrix}\n",
    "1 & 1 & -1 & -2\\\\ \n",
    "0 & -1 & 1 & 5\\\\ \n",
    "0 & 0 & -2 & 3\\\\ \n",
    "\\end{matrix}\\right|\n",
    "\\begin{matrix}\n",
    "0\\\\ \n",
    "-2\\\\\n",
    "4\n",
    "\\end{matrix}\n",
    "\\end{pmatrix}$$"
   ]
  },
  {
   "cell_type": "markdown",
   "metadata": {},
   "source": [
    "$$ x_4 - free $$"
   ]
  },
  {
   "cell_type": "markdown",
   "metadata": {},
   "source": [
    "__1.__$$ -2x_3+3x_4=4 \\rightarrow x_3 = \\frac{3x_4-4}{2} $$"
   ]
  },
  {
   "cell_type": "markdown",
   "metadata": {},
   "source": [
    "__2__.$$ -x_2+x_3+5x_4 = -2 \\rightarrow x_2 = 5x_4+\\frac{3x_4-4}{2} +2  = \\frac{13x_4}{2} $$"
   ]
  },
  {
   "cell_type": "markdown",
   "metadata": {},
   "source": [
    "__3__. $$x_1+x_2-x_3-2x_4 = 0 \\rightarrow x_1 = 2x_4+\\frac{3x_4-4}{2}-\\frac{13x_4}{2} = -3x_4-2 $$"
   ]
  },
  {
   "cell_type": "code",
   "execution_count": 58,
   "metadata": {},
   "outputs": [],
   "source": [
    "x3 = lambda x: (3*x-4)/2\n",
    "x2 = lambda x: (13*x/2)\n",
    "x1 = lambda x: (-3*x-2)"
   ]
  },
  {
   "cell_type": "code",
   "execution_count": 59,
   "metadata": {},
   "outputs": [],
   "source": [
    "x4 = np.random.randint(1, 100)\n",
    "x = np.array([x1(x4), x2(x4), x3(x4), x4]).reshape(4, 1)"
   ]
  },
  {
   "cell_type": "code",
   "execution_count": 60,
   "metadata": {},
   "outputs": [],
   "source": [
    "assert (a@x == b).all(), 'Wrong answer'"
   ]
  },
  {
   "cell_type": "markdown",
   "metadata": {},
   "source": [
    "### <b> Task №2"
   ]
  },
  {
   "cell_type": "markdown",
   "metadata": {},
   "source": [
    "а) $\\begin{cases}\n",
    "3x_{1}-x_{2}+x_{3}=4, \\\\\n",
    "2x_{1}-5x_{2}-3x_{3}=-17, \\\\\n",
    "x_{1}+x_{2}-x_{3}=0;\n",
    "\\end{cases}$"
   ]
  },
  {
   "cell_type": "code",
   "execution_count": 71,
   "metadata": {},
   "outputs": [],
   "source": [
    "a = np.array([[3, -1, 1],\n",
    "              [2, -5, -3],\n",
    "              [1, 1, -1]])\n",
    "\n",
    "b = np.array([4, -17, 0]).reshape(3, 1)\n",
    "\n",
    "a_b = np.hstack((a, b))"
   ]
  },
  {
   "cell_type": "code",
   "execution_count": 72,
   "metadata": {},
   "outputs": [
    {
     "name": "stdout",
     "output_type": "stream",
     "text": [
      "Ранг матрицы A: 3\n",
      "Ранг расширенной матрицы: 3\n"
     ]
    }
   ],
   "source": [
    "print(f'Ранг матрицы A: {np.linalg.matrix_rank(a)}')\n",
    "print(f'Ранг расширенной матрицы: {np.linalg.matrix_rank(a_b)}')"
   ]
  },
  {
   "cell_type": "markdown",
   "metadata": {},
   "source": [
    "* Ранги совпадают и равны количеству неизвестных $\\rightarrow$ совместна и определена"
   ]
  },
  {
   "cell_type": "markdown",
   "metadata": {},
   "source": [
    "   б) $\\begin{cases}\n",
    "2x_{1}-4x_{2}+6x_{3}=1, \\\\\n",
    "x_{1}-2x_{2}+3x_{3}=-2, \\\\\n",
    "3x_{1}-6x_{2}+9x_{3}=5;\n",
    "\\end{cases}$"
   ]
  },
  {
   "cell_type": "code",
   "execution_count": 73,
   "metadata": {},
   "outputs": [
    {
     "name": "stdout",
     "output_type": "stream",
     "text": [
      "Ранг матрицы A: 1\n",
      "Ранг расширенной матрицы: 2\n"
     ]
    }
   ],
   "source": [
    "a = np.array([[2, -4, 6],\n",
    "              [1, -2, 3],\n",
    "              [3, -6, 9]])\n",
    "\n",
    "b = np.array([1, -2, 5]).reshape(3, 1)\n",
    "\n",
    "a_b = np.hstack((a,b))\n",
    "\n",
    "print(f'Ранг матрицы A: {np.linalg.matrix_rank(a)}')\n",
    "print(f'Ранг расширенной матрицы: {np.linalg.matrix_rank(a_b)}')"
   ]
  },
  {
   "cell_type": "markdown",
   "metadata": {},
   "source": [
    "* Ранги не совпадают $\\rightarrow$ система несовместна"
   ]
  },
  {
   "cell_type": "markdown",
   "metadata": {},
   "source": [
    "   в) $\\begin{cases}\n",
    "x_{1}+2x_{2}+5x_{3}=4, \\\\\n",
    "3x_{1}+x_{2}-8x_{3}=-2. \n",
    "\\end{cases}$"
   ]
  },
  {
   "cell_type": "code",
   "execution_count": 74,
   "metadata": {},
   "outputs": [
    {
     "name": "stdout",
     "output_type": "stream",
     "text": [
      "Ранг матрицы A: 2\n",
      "Ранг расширенной матрицы: 2\n"
     ]
    }
   ],
   "source": [
    "a = np.array([[1, 2, 5],\n",
    "              [3, 1, -8]])\n",
    "\n",
    "b = np.array([4, -2]).reshape(2, 1)\n",
    "\n",
    "a_b = np.hstack((a, b))\n",
    "\n",
    "print(f'Ранг матрицы A: {np.linalg.matrix_rank(a)}')\n",
    "print(f'Ранг расширенной матрицы: {np.linalg.matrix_rank(a_b)}')"
   ]
  },
  {
   "cell_type": "markdown",
   "metadata": {},
   "source": [
    "* Ранги совпадают и меньше количества неизвестных $\\rightarrow$ система совместна и не определена"
   ]
  },
  {
   "cell_type": "markdown",
   "metadata": {},
   "source": [
    "### <b> Task №3"
   ]
  },
  {
   "cell_type": "markdown",
   "metadata": {},
   "source": [
    "$$\\tilde{A}=\\begin{pmatrix}\n",
    "\\left.\\begin{matrix}\n",
    "1 & 3 & -2 & 4\\\\ \n",
    "0 & 5 & 0 & 1\\\\ \n",
    "0 & 0 & 3 & 0\\\\ \n",
    "0 & 0 & 0 & 2\n",
    "\\end{matrix}\\right|\n",
    "\\begin{matrix}\n",
    "3\\\\ \n",
    "2\\\\\n",
    "4\\\\\n",
    "1\n",
    "\\end{matrix}\n",
    "\\end{pmatrix}.$$"
   ]
  },
  {
   "cell_type": "code",
   "execution_count": 76,
   "metadata": {},
   "outputs": [
    {
     "name": "stdout",
     "output_type": "stream",
     "text": [
      "Ранг матрицы A: 4\n",
      "Ранг расширенной матрицы: 4\n"
     ]
    }
   ],
   "source": [
    "a_b = np.array([[1, 3, -2, 4, 3],\n",
    "                [0, 5, 0, 1, 2],\n",
    "                [0, 0, 3, 0, 4],\n",
    "                [0, 0, 0, 2, 1]])\n",
    "\n",
    "a = a_b[:, :-1]\n",
    "\n",
    "b = a_b[:, -1:]\n",
    "\n",
    "print(f'Ранг матрицы A: {np.linalg.matrix_rank(a)}')\n",
    "print(f'Ранг расширенной матрицы: {np.linalg.matrix_rank(a_b)}')"
   ]
  },
  {
   "cell_type": "markdown",
   "metadata": {},
   "source": [
    "* Ранги совпадают и равны количеству неизвестных $\\rightarrow$ совместна и определена"
   ]
  },
  {
   "cell_type": "markdown",
   "metadata": {},
   "source": [
    "### <b> Task №4"
   ]
  },
  {
   "cell_type": "markdown",
   "metadata": {},
   "source": [
    "$$\\tilde{A}=\\begin{pmatrix}\n",
    "\\left.\\begin{matrix}\n",
    "1 & 2 & 3\\\\ \n",
    "4 & 5 & 6\\\\ \n",
    "7 & 8 & 9\n",
    "\\end{matrix}\\right|\n",
    "\\begin{matrix}\n",
    "a\\\\ \n",
    "b\\\\\n",
    "c\n",
    "\\end{matrix}\n",
    "\\end{pmatrix}.$$"
   ]
  },
  {
   "cell_type": "code",
   "execution_count": 77,
   "metadata": {},
   "outputs": [
    {
     "name": "stdout",
     "output_type": "stream",
     "text": [
      "Ранг матрицы A: 2\n"
     ]
    }
   ],
   "source": [
    "a = np.array([[1, 2, 3],\n",
    "              [4, 5, 6],\n",
    "              [7, 8, 9]])\n",
    "\n",
    "print(f'Ранг матрицы A: {np.linalg.matrix_rank(a)}')"
   ]
  },
  {
   "cell_type": "markdown",
   "metadata": {},
   "source": [
    "* Ранг исходной матрицы равен 2, поэтому, чтобы система была несовместна, необходимо и достаточно, чтобы ранг расширенной матрицы был больше 2.\n",
    "* После прямого хода метода Гаусса матрица А будет иметь вид\n",
    "\n",
    "$$\\tilde{A}=\\begin{pmatrix}\n",
    "\\left.\\begin{matrix}\n",
    "1 & 2 & 3\\\\ \n",
    "0 & -3 & -6\\\\ \n",
    "0 & 0 & 0\n",
    "\\end{matrix}\\right|\n",
    "\\begin{matrix}\n",
    "a\\\\ \n",
    "b-4a\\\\\n",
    "a-2b+c\n",
    "\\end{matrix}\n",
    "\\end{pmatrix}.$$\n",
    "\n",
    "* Откуда становится понятно, что для несовместности системы необходимо и достаточно, чтобы $$a-2b+c\\neq0$$\n",
    "    \n",
    "* Пусть b, c - свободные коэффициенты, тогда $$a = 2b-c$$ $$b,c \\in R$$\n",
    "\n",
    "* Если вектор правой части выражается как $$(2b-c, b, c)^T$$, \n",
    "    то система совместна и не определена. При любых других значениях — несовместна.    "
   ]
  },
  {
   "cell_type": "code",
   "execution_count": 78,
   "metadata": {},
   "outputs": [],
   "source": [
    "a_coeff = lambda b_coeff, c_coeff: 2*b_coeff - c_coeff\n",
    "b_coeff, c_coeff = np.random.randint(1, 100, 2)\n"
   ]
  },
  {
   "cell_type": "code",
   "execution_count": 79,
   "metadata": {},
   "outputs": [
    {
     "name": "stdout",
     "output_type": "stream",
     "text": [
      "Ранг матрицы A: 2\n",
      "Ранг расширенной матрицы: 2\n"
     ]
    }
   ],
   "source": [
    "b = np.array([a_coeff(b_coeff, c_coeff), b_coeff, c_coeff]).reshape(3, 1)\n",
    "\n",
    "a_b = np.hstack((a, b))\n",
    "\n",
    "print(f'Ранг матрицы A: {np.linalg.matrix_rank(a)}')\n",
    "print(f'Ранг расширенной матрицы: {np.linalg.matrix_rank(a_b)}')"
   ]
  },
  {
   "cell_type": "code",
   "execution_count": 80,
   "metadata": {},
   "outputs": [
    {
     "name": "stdout",
     "output_type": "stream",
     "text": [
      "Ранг матрицы A: 2\n",
      "Ранг расширенной матрицы: 3\n"
     ]
    }
   ],
   "source": [
    "b_false = np.array([a_coeff(b_coeff, c_coeff)+1, b_coeff, c_coeff]).reshape(3, 1)\n",
    "\n",
    "a_b_false = np.hstack((a, b_false))\n",
    "\n",
    "print(f'Ранг матрицы A: {np.linalg.matrix_rank(a)}')\n",
    "print(f'Ранг расширенной матрицы: {np.linalg.matrix_rank(a_b_false)}')"
   ]
  },
  {
   "cell_type": "code",
   "execution_count": null,
   "metadata": {},
   "outputs": [],
   "source": []
  }
 ],
 "metadata": {
  "kernelspec": {
   "display_name": "Python 3",
   "language": "python",
   "name": "python3"
  },
  "language_info": {
   "codemirror_mode": {
    "name": "ipython",
    "version": 3
   },
   "file_extension": ".py",
   "mimetype": "text/x-python",
   "name": "python",
   "nbconvert_exporter": "python",
   "pygments_lexer": "ipython3",
   "version": "3.8.5"
  }
 },
 "nbformat": 4,
 "nbformat_minor": 4
}
