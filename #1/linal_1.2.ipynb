{
 "cells": [
  {
   "cell_type": "code",
   "execution_count": 1,
   "metadata": {},
   "outputs": [],
   "source": [
    "import numpy as np"
   ]
  },
  {
   "cell_type": "markdown",
   "metadata": {},
   "source": [
    "### <b> Task №1"
   ]
  },
  {
   "cell_type": "code",
   "execution_count": 15,
   "metadata": {},
   "outputs": [
    {
     "name": "stdout",
     "output_type": "stream",
     "text": [
      "(x,y) = 33\n"
     ]
    }
   ],
   "source": [
    "x = np.array([0, -3, 6])\n",
    "y = np.array([-4, 7, 9])\n",
    "print(f'(x,y) = {np.dot(x, y)}')"
   ]
  },
  {
   "cell_type": "code",
   "execution_count": 16,
   "metadata": {},
   "outputs": [
    {
     "name": "stdout",
     "output_type": "stream",
     "text": [
      "(x,y) = -23\n"
     ]
    }
   ],
   "source": [
    "x = np.array([7, -4, 0, 1])\n",
    "y = np.array([-3, 1, 11, 2])\n",
    "print(f'(x,y) = {np.dot(x, y)}')"
   ]
  },
  {
   "cell_type": "markdown",
   "metadata": {},
   "source": [
    "### <b> Task №2"
   ]
  },
  {
   "cell_type": "code",
   "execution_count": 40,
   "metadata": {},
   "outputs": [
    {
     "name": "stdout",
     "output_type": "stream",
     "text": [
      "L1: ||x|| = 10.0\tL2: ||x|| = 6.0\n",
      "L1: ||y|| = 19.0\tL2: ||y|| = 13.0\n",
      "cos((x, y)) = 0.8974\n"
     ]
    }
   ],
   "source": [
    "x = np.array([4, 2, 4])\n",
    "y = np.array([12, 3, 4])\n",
    "L1_x, L2_x = np.linalg.norm(x, ord = 1), np.linalg.norm(x, ord = 2)\n",
    "L1_y, L2_y = np.linalg.norm(y, ord = 1), np.linalg.norm(y, ord = 2)\n",
    "print(f'L1: ||x|| = {L1_x}\\tL2: ||x|| = {L2_x}')\n",
    "print(f'L1: ||y|| = {L1_y}\\tL2: ||y|| = {L2_y}')\n",
    "print(f'cos((x, y)) = {round(np.dot(x, y)/(L2_x * L2_y), 4)}')"
   ]
  },
  {
   "cell_type": "markdown",
   "metadata": {},
   "source": [
    "### <b> Task №3"
   ]
  },
  {
   "cell_type": "markdown",
   "metadata": {},
   "source": [
    "* a) Нет, т.к. не выполняется вторая аксиома скалярного произведения"
   ]
  },
  {
   "cell_type": "markdown",
   "metadata": {},
   "source": [
    " $$ (\\lambda x,y) = ||\\lambda x|| * ||y|| = |\\lambda| * ||x|| * ||y|| \\neq \\lambda * ||x|| * ||y|| $$"
   ]
  },
  {
   "cell_type": "markdown",
   "metadata": {},
   "source": [
    "* б)Да, т.к. все аксиомы скалярного произведения выполнены"
   ]
  },
  {
   "cell_type": "markdown",
   "metadata": {},
   "source": [
    "$$ (x, y)_{orig} = (x_1y_1 + ... + x_ny_n) $$"
   ]
  },
  {
   "cell_type": "markdown",
   "metadata": {},
   "source": [
    "$$ (x, y) = 3(x,y)_{orig} $$"
   ]
  },
  {
   "cell_type": "markdown",
   "metadata": {},
   "source": [
    "$$  №1:  (x, y) = 3(x_1y_1 + ... +x_ny_n) = 3(y_1x_1 + ... + y_nx_n) = 3(y, x) $$"
   ]
  },
  {
   "cell_type": "markdown",
   "metadata": {},
   "source": [
    "$$  №2: (\\lambda x, y) = 3(\\lambda x_1y_1 + ... + \\lambda x_n y_n) = 3 \\lambda (x_1 y_1 + ... x_n y_n) = \\lambda (x, y) $$"
   ]
  },
  {
   "cell_type": "markdown",
   "metadata": {},
   "source": [
    "$$  №3: (x' + x'', y) = 3((x'_1 + x''_1)y_1 + ... (x'_n + x''_n)y_n) = 3(x'_1 y_1 + ... + x'_n y_n) + 3(x''_1 y_1 + ... + x''_n * y_n) = (x', y) + (x'', y) $$"
   ]
  },
  {
   "cell_type": "markdown",
   "metadata": {},
   "source": [
    "$$ №4: (x, x) = 3(x^2_1 + ... + x^2_n) \\geq 0, (x, x) = 0 \\Leftrightarrow x = 0 $$"
   ]
  },
  {
   "cell_type": "markdown",
   "metadata": {},
   "source": [
    "### <b> Task №4"
   ]
  },
  {
   "cell_type": "markdown",
   "metadata": {},
   "source": [
    "* Под а) и в) — нет. \n",
    "* Под б) и г) — да."
   ]
  },
  {
   "cell_type": "code",
   "execution_count": null,
   "metadata": {},
   "outputs": [],
   "source": []
  }
 ],
 "metadata": {
  "kernelspec": {
   "display_name": "Python 3",
   "language": "python",
   "name": "python3"
  },
  "language_info": {
   "codemirror_mode": {
    "name": "ipython",
    "version": 3
   },
   "file_extension": ".py",
   "mimetype": "text/x-python",
   "name": "python",
   "nbconvert_exporter": "python",
   "pygments_lexer": "ipython3",
   "version": "3.8.5"
  }
 },
 "nbformat": 4,
 "nbformat_minor": 4
}
