{
 "cells": [
  {
   "cell_type": "code",
   "execution_count": 31,
   "metadata": {},
   "outputs": [],
   "source": [
    "import numpy as np\n",
    "from pprint import pprint\n",
    "np.set_printoptions(precision=2, suppress=True)"
   ]
  },
  {
   "cell_type": "code",
   "execution_count": 32,
   "metadata": {},
   "outputs": [
    {
     "data": {
      "text/plain": [
       "array([[ 1.,  2.,  0.],\n",
       "       [ 0., -0.,  5.],\n",
       "       [ 3., -4.,  2.],\n",
       "       [ 1.,  6.,  5.],\n",
       "       [-0.,  1.,  0.]])"
      ]
     },
     "execution_count": 32,
     "metadata": {},
     "output_type": "execute_result"
    }
   ],
   "source": [
    "a = np.array([[1, 2, 0],\n",
    "              [0, 0, 5],\n",
    "              [3, -4, 2],\n",
    "              [1, 6, 5],\n",
    "              [0, 1, 0]             \n",
    "             ])\n",
    "\n",
    "U, s, W = np.linalg.svd(a)\n",
    "\n",
    "V = W.T\n",
    "\n",
    "D = np.zeros(a.shape, dtype=float)\n",
    "\n",
    "D[np.diag_indices(min(a.shape))] = s\n",
    "U@D@V.T"
   ]
  },
  {
   "cell_type": "markdown",
   "metadata": {},
   "source": [
    "__Евклидова норма матрицы А__"
   ]
  },
  {
   "cell_type": "code",
   "execution_count": 33,
   "metadata": {},
   "outputs": [
    {
     "name": "stdout",
     "output_type": "stream",
     "text": [
      "Евклидова норма матрицы A: 8.82\n"
     ]
    }
   ],
   "source": [
    "print(f'Евклидова норма матрицы A: {round(D[0,0], 2)}')"
   ]
  },
  {
   "cell_type": "markdown",
   "metadata": {},
   "source": [
    "__Норма Фробениуса матрицы А, посчитанная с помощью SVD__"
   ]
  },
  {
   "cell_type": "code",
   "execution_count": 34,
   "metadata": {},
   "outputs": [
    {
     "name": "stdout",
     "output_type": "stream",
     "text": [
      "Норма Фробениуса матрицы A: 11.05\n"
     ]
    }
   ],
   "source": [
    "print(f'Норма Фробениуса матрицы A: {round(np.sqrt(np.sum([mu**2 for mu in s])), 2)}')"
   ]
  },
  {
   "cell_type": "markdown",
   "metadata": {},
   "source": [
    "__Норма Фробениуса матрицы А, посчитанная по определению__"
   ]
  },
  {
   "cell_type": "code",
   "execution_count": 41,
   "metadata": {},
   "outputs": [
    {
     "name": "stdout",
     "output_type": "stream",
     "text": [
      "Норма Фробениуса матрицы A: 11.05\n"
     ]
    }
   ],
   "source": [
    "a_sq = a**2\n",
    "norm_fr = np.sqrt(np.sum([np.sum(a_sq[i, :]) for i in range(a.shape[0])]))\n",
    "print(f'Норма Фробениуса матрицы A: {round(norm_fr, 2)}')"
   ]
  },
  {
   "cell_type": "code",
   "execution_count": null,
   "metadata": {},
   "outputs": [],
   "source": []
  }
 ],
 "metadata": {
  "kernelspec": {
   "display_name": "Python 3",
   "language": "python",
   "name": "python3"
  },
  "language_info": {
   "codemirror_mode": {
    "name": "ipython",
    "version": 3
   },
   "file_extension": ".py",
   "mimetype": "text/x-python",
   "name": "python",
   "nbconvert_exporter": "python",
   "pygments_lexer": "ipython3",
   "version": "3.8.5"
  }
 },
 "nbformat": 4,
 "nbformat_minor": 4
}
